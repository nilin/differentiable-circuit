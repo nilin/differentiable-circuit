{
 "cells": [
  {
   "cell_type": "code",
   "execution_count": 1,
   "metadata": {},
   "outputs": [],
   "source": [
    "import torch\n",
    "from datatypes import *\n",
    "from train_dm import *\n",
    "import os\n",
    "import json\n",
    "import config\n",
    "from collections import deque"
   ]
  },
  {
   "cell_type": "code",
   "execution_count": 2,
   "metadata": {},
   "outputs": [
    {
     "data": {
      "text/plain": [
       "['H.pt',\n",
       " 'args.json',\n",
       " 'params_t-0.pt',\n",
       " 'params_t-1.pt',\n",
       " 'params_t-10.pt',\n",
       " 'params_t-11.pt',\n",
       " 'params_t-12.pt',\n",
       " 'params_t-13.pt',\n",
       " 'params_t-14.pt',\n",
       " 'params_t-15.pt',\n",
       " 'params_t-16.pt',\n",
       " 'params_t-17.pt',\n",
       " 'params_t-18.pt',\n",
       " 'params_t-19.pt',\n",
       " 'params_t-2.pt',\n",
       " 'params_t-20.pt',\n",
       " 'params_t-21.pt',\n",
       " 'params_t-22.pt',\n",
       " 'params_t-23.pt',\n",
       " 'params_t-24.pt',\n",
       " 'params_t-3.pt',\n",
       " 'params_t-4.pt',\n",
       " 'params_t-5.pt',\n",
       " 'params_t-6.pt',\n",
       " 'params_t-7.pt',\n",
       " 'params_t-8.pt',\n",
       " 'params_t-9.pt',\n",
       " 'values.txt']"
      ]
     },
     "execution_count": 2,
     "metadata": {},
     "output_type": "execute_result"
    }
   ],
   "source": [
    "path='example_outputs/run_262/'\n",
    "outpath=path+'/eval.txt'\n",
    "if os.path.exists(outpath):\n",
    "    raise ValueError('Output file already exists')\n",
    "with open(os.path.join(path, 'args.json'), 'r') as f:\n",
    "    args = json.load(f)\n",
    "sorted(os.listdir(path))"
   ]
  },
  {
   "cell_type": "code",
   "execution_count": 3,
   "metadata": {},
   "outputs": [],
   "source": [
    "def getmodel(n,l):\n",
    "    H = TFIM(n)\n",
    "    ublock = UnitaryBlock(H, l=l, use_trotter=False, n=n).set_direction_forward()\n",
    "    block = Block(unitaryblock=ublock)\n",
    "    return block\n",
    "\n",
    "def apply(model,param_blocks,n_superblocks,rho):\n",
    "    yield cdot(psi_target, rho @ psi_target).real\n",
    "    for _ in range(n_superblocks):\n",
    "        for i,params in enumerate(param_blocks):\n",
    "            rho=rho.detach()\n",
    "            model.load_state_dict(params)\n",
    "            rho=model.apply_to_density_matrix(rho)\n",
    "\n",
    "        yield cdot(psi_target, rho @ psi_target).real\n",
    "\n",
    "def retrieve(tensor):\n",
    "    return tensor.detach().cpu().numpy()"
   ]
  },
  {
   "cell_type": "code",
   "execution_count": 4,
   "metadata": {},
   "outputs": [],
   "source": [
    "block_param_files=[f for f in os.listdir(path) if 'params' in f]\n",
    "block_param_files.sort(key=lambda s: int(s.split('-')[1].split('.')[0]))\n",
    "block_param_files.reverse()\n",
    "param_blocks=[torch.load(path+'/'+f) for f in block_param_files]"
   ]
  },
  {
   "cell_type": "code",
   "execution_count": 5,
   "metadata": {},
   "outputs": [],
   "source": [
    "n=args['n']\n",
    "l=args['l']\n",
    "H=torch.load(path+'/H.pt')\n",
    "psi_target = groundstate(H, n)\n",
    "I = torch.eye(len(psi_target), dtype=tcomplex, device=config.device) / len(psi_target)\n",
    "model=getmodel(n,l)"
   ]
  },
  {
   "cell_type": "code",
   "execution_count": 6,
   "metadata": {},
   "outputs": [
    {
     "name": "stdout",
     "output_type": "stream",
     "text": [
      "d 0 superblock 0 value 0.0019531252\n",
      "d 0 superblock 1 value 0.89800465\n",
      "d 0 superblock 2 value 0.9445176\n",
      "d 0 superblock 3 value 0.9467168\n",
      "d 0 superblock 4 value 0.9468168\n",
      "d 0 superblock 5 value 0.94681484\n",
      "d 0 superblock 6 value 0.9468097\n",
      "d 0 superblock 7 value 0.9468032\n",
      "d 0 superblock 8 value 0.9467969\n",
      "d 0 superblock 9 value 0.9467923\n",
      "d 0 superblock 10 value 0.94678694\n",
      "d 0 superblock 11 value 0.94678175\n",
      "d 0 superblock 12 value 0.946777\n",
      "d 0 superblock 13 value 0.9467712\n",
      "d 0 superblock 14 value 0.94676745\n",
      "d 0 superblock 15 value 0.9467632\n",
      "d 0 superblock 16 value 0.94675887\n",
      "d 0 superblock 17 value 0.9467528\n",
      "d 0 superblock 18 value 0.9467478\n"
     ]
    }
   ],
   "source": [
    "\n",
    "for d in range(len(block_param_files)+1):\n",
    "    for s,out in enumerate(apply(model,param_blocks[len(param_blocks)-d:],24,I)):\n",
    "        print('d',d,'superblock',s,'value',retrieve(out))\n",
    "\n",
    "        with open(outpath, \"a\") as f:\n",
    "            f.write(f\"d {d} superblocks {s} value {retrieve(out)}\\n\")\n",
    "\n",
    "    print()\n",
    "        #print(out)I"
   ]
  },
  {
   "cell_type": "code",
   "execution_count": null,
   "metadata": {},
   "outputs": [],
   "source": []
  },
  {
   "cell_type": "code",
   "execution_count": null,
   "metadata": {},
   "outputs": [],
   "source": []
  }
 ],
 "metadata": {
  "kernelspec": {
   "display_name": "lbg",
   "language": "python",
   "name": "python3"
  },
  "language_info": {
   "codemirror_mode": {
    "name": "ipython",
    "version": 3
   },
   "file_extension": ".py",
   "mimetype": "text/x-python",
   "name": "python",
   "nbconvert_exporter": "python",
   "pygments_lexer": "ipython3",
   "version": "3.10.13"
  }
 },
 "nbformat": 4,
 "nbformat_minor": 2
}
